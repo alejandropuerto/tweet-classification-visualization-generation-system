{
 "cells": [
  {
   "cell_type": "markdown",
   "metadata": {
    "colab_type": "text",
    "id": "RXRmpOhcL0Yu"
   },
   "source": [
    "Importing the library Twython package to help us with authentication and querying Twitter's APIs."
   ]
  },
  {
   "cell_type": "code",
   "execution_count": 1,
   "metadata": {},
   "outputs": [
    {
     "name": "stdout",
     "output_type": "stream",
     "text": [
      "Collecting twython\n",
      "  Downloading twython-3.8.2-py3-none-any.whl (33 kB)\n",
      "Requirement already satisfied: requests-oauthlib>=0.4.0 in c:\\users\\upy h110-16\\appdata\\roaming\\python\\python38\\site-packages (from twython) (1.3.0)\n",
      "Requirement already satisfied: requests>=2.1.0 in c:\\users\\upy h110-16\\anaconda3\\lib\\site-packages (from twython) (2.25.0)\n",
      "Requirement already satisfied: oauthlib>=3.0.0 in c:\\users\\upy h110-16\\appdata\\roaming\\python\\python38\\site-packages (from requests-oauthlib>=0.4.0->twython) (3.1.0)\n",
      "Requirement already satisfied: urllib3<1.27,>=1.21.1 in c:\\users\\upy h110-16\\anaconda3\\lib\\site-packages (from requests>=2.1.0->twython) (1.25.11)\n",
      "Requirement already satisfied: certifi>=2017.4.17 in c:\\users\\upy h110-16\\anaconda3\\lib\\site-packages (from requests>=2.1.0->twython) (2020.11.8)\n",
      "Requirement already satisfied: idna<3,>=2.5 in c:\\users\\upy h110-16\\anaconda3\\lib\\site-packages (from requests>=2.1.0->twython) (2.10)\n",
      "Requirement already satisfied: chardet<4,>=3.0.2 in c:\\users\\upy h110-16\\anaconda3\\lib\\site-packages (from requests>=2.1.0->twython) (3.0.4)\n",
      "Installing collected packages: twython\n",
      "Successfully installed twython-3.8.2\n"
     ]
    }
   ],
   "source": [
    "!pip install twython"
   ]
  },
  {
   "cell_type": "code",
   "execution_count": 1,
   "metadata": {
    "colab": {},
    "colab_type": "code",
    "id": "cNMmJMPye58P"
   },
   "outputs": [],
   "source": [
    "from twython import Twython"
   ]
  },
  {
   "cell_type": "code",
   "execution_count": 2,
   "metadata": {},
   "outputs": [],
   "source": [
    "consumer_key= ''\n",
    "consumer_secret= ''\n",
    "access_token= '249441321-'\n",
    "access_token_secret= ''"
   ]
  },
  {
   "cell_type": "code",
   "execution_count": null,
   "metadata": {
    "colab": {
     "base_uri": "https://localhost:8080/",
     "height": 1000
    },
    "colab_type": "code",
    "id": "cq2gSNYYgUxn",
    "outputId": "3cb1f64c-2c36-4e57-c318-143207de2f07"
   },
   "outputs": [],
   "source": [
    "twitter = Twython(consumer_key, consumer_secret,\n",
    "                  access_token,\n",
    "                  access_token_secret)\n",
    "\n",
    "twitter.verify_credentials()"
   ]
  },
  {
   "cell_type": "code",
   "execution_count": null,
   "metadata": {
    "colab": {},
    "colab_type": "code",
    "id": "wtigd8tlpCw9"
   },
   "outputs": [],
   "source": [
    "search_response = twitter.search(q='#covid19 -filter:retweets', lang=\"en\", count=10000, tweet_mode=\"extended\")"
   ]
  },
  {
   "cell_type": "code",
   "execution_count": 8,
   "metadata": {
    "colab": {
     "base_uri": "https://localhost:8080/",
     "height": 1000
    },
    "colab_type": "code",
    "id": "TP3cqYVq48In",
    "outputId": "7b4472dc-3149-4e4d-d050-86ec4a0c74fd"
   },
   "outputs": [
    {
     "data": {
      "text/plain": [
       "{'created_at': 'Wed Dec 02 00:26:27 +0000 2020',\n",
       " 'id': 1333930492836651011,\n",
       " 'id_str': '1333930492836651011',\n",
       " 'full_text': 'The latest The Infrastructure in Emerging Markets Daily! https://t.co/CGYy2MHFkd Thanks to @SIFSource @GreenstarPak @lusakatimes #covid19 #cybersecurity',\n",
       " 'truncated': False,\n",
       " 'display_text_range': [0, 152],\n",
       " 'entities': {'hashtags': [{'text': 'covid19', 'indices': [129, 137]},\n",
       "   {'text': 'cybersecurity', 'indices': [138, 152]}],\n",
       "  'symbols': [],\n",
       "  'user_mentions': [{'screen_name': 'SIFSource',\n",
       "    'name': 'SIF-SOURCE',\n",
       "    'id': 795537297299095553,\n",
       "    'id_str': '795537297299095553',\n",
       "    'indices': [91, 101]},\n",
       "   {'screen_name': 'GreenstarPak',\n",
       "    'name': 'Greenstar Social Marketing',\n",
       "    'id': 1242385437223727105,\n",
       "    'id_str': '1242385437223727105',\n",
       "    'indices': [102, 115]},\n",
       "   {'screen_name': 'lusakatimes',\n",
       "    'name': 'Lusaka Times',\n",
       "    'id': 35288289,\n",
       "    'id_str': '35288289',\n",
       "    'indices': [116, 128]}],\n",
       "  'urls': [{'url': 'https://t.co/CGYy2MHFkd',\n",
       "    'expanded_url': 'http://news.jacquemyn.sg/?edition_id=036e3f80-3435-11eb-add7-0cc47a0d1605',\n",
       "    'display_url': 'news.jacquemyn.sg/?edition_id=03…',\n",
       "    'indices': [57, 80]}]},\n",
       " 'metadata': {'iso_language_code': 'en', 'result_type': 'recent'},\n",
       " 'source': '<a href=\"https://paper.li\" rel=\"nofollow\">Paper.li</a>',\n",
       " 'in_reply_to_status_id': None,\n",
       " 'in_reply_to_status_id_str': None,\n",
       " 'in_reply_to_user_id': None,\n",
       " 'in_reply_to_user_id_str': None,\n",
       " 'in_reply_to_screen_name': None,\n",
       " 'user': {'id': 80746351,\n",
       "  'id_str': '80746351',\n",
       "  'name': 'Lieven Jacquemyn',\n",
       "  'screen_name': 'LievenJ',\n",
       "  'location': '',\n",
       "  'description': '',\n",
       "  'url': None,\n",
       "  'entities': {'description': {'urls': []}},\n",
       "  'protected': False,\n",
       "  'followers_count': 36,\n",
       "  'friends_count': 163,\n",
       "  'listed_count': 0,\n",
       "  'created_at': 'Thu Oct 08 02:39:16 +0000 2009',\n",
       "  'favourites_count': 1,\n",
       "  'utc_offset': None,\n",
       "  'time_zone': None,\n",
       "  'geo_enabled': False,\n",
       "  'verified': False,\n",
       "  'statuses_count': 289,\n",
       "  'lang': None,\n",
       "  'contributors_enabled': False,\n",
       "  'is_translator': False,\n",
       "  'is_translation_enabled': False,\n",
       "  'profile_background_color': 'C0DEED',\n",
       "  'profile_background_image_url': 'http://abs.twimg.com/images/themes/theme1/bg.png',\n",
       "  'profile_background_image_url_https': 'https://abs.twimg.com/images/themes/theme1/bg.png',\n",
       "  'profile_background_tile': False,\n",
       "  'profile_image_url': 'http://pbs.twimg.com/profile_images/1150599271005036546/RAkkCFi9_normal.png',\n",
       "  'profile_image_url_https': 'https://pbs.twimg.com/profile_images/1150599271005036546/RAkkCFi9_normal.png',\n",
       "  'profile_banner_url': 'https://pbs.twimg.com/profile_banners/80746351/1563161759',\n",
       "  'profile_link_color': '1DA1F2',\n",
       "  'profile_sidebar_border_color': 'C0DEED',\n",
       "  'profile_sidebar_fill_color': 'DDEEF6',\n",
       "  'profile_text_color': '333333',\n",
       "  'profile_use_background_image': True,\n",
       "  'has_extended_profile': False,\n",
       "  'default_profile': True,\n",
       "  'default_profile_image': False,\n",
       "  'following': False,\n",
       "  'follow_request_sent': False,\n",
       "  'notifications': False,\n",
       "  'translator_type': 'none'},\n",
       " 'geo': None,\n",
       " 'coordinates': None,\n",
       " 'place': None,\n",
       " 'contributors': None,\n",
       " 'is_quote_status': False,\n",
       " 'retweet_count': 0,\n",
       " 'favorite_count': 0,\n",
       " 'favorited': False,\n",
       " 'retweeted': False,\n",
       " 'possibly_sensitive': False,\n",
       " 'lang': 'en'}"
      ]
     },
     "execution_count": 8,
     "metadata": {},
     "output_type": "execute_result"
    }
   ],
   "source": [
    "search_tweets = search_response['statuses']\n",
    "tweet = search_tweets[0]\n",
    "tweet"
   ]
  },
  {
   "cell_type": "code",
   "execution_count": 10,
   "metadata": {},
   "outputs": [],
   "source": [
    "import json"
   ]
  },
  {
   "cell_type": "code",
   "execution_count": 13,
   "metadata": {},
   "outputs": [],
   "source": [
    "with open('tweets_covid.json', 'w') as file:\n",
    "    json.dump(search_response, file)"
   ]
  },
  {
   "cell_type": "code",
   "execution_count": null,
   "metadata": {},
   "outputs": [],
   "source": []
  }
 ],
 "metadata": {
  "colab": {
   "name": "H5_Social_Network_Analysis_(API).ipynb",
   "provenance": []
  },
  "kernelspec": {
   "display_name": "Python 3",
   "language": "python",
   "name": "python3"
  },
  "language_info": {
   "codemirror_mode": {
    "name": "ipython",
    "version": 3
   },
   "file_extension": ".py",
   "mimetype": "text/x-python",
   "name": "python",
   "nbconvert_exporter": "python",
   "pygments_lexer": "ipython3",
   "version": "3.6.5"
  }
 },
 "nbformat": 4,
 "nbformat_minor": 1
}
