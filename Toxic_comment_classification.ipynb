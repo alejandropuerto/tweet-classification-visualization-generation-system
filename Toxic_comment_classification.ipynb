{
  "nbformat": 4,
  "nbformat_minor": 0,
  "metadata": {
    "colab": {
      "name": "Copy of A5 Toxic comment classification.ipynb",
      "provenance": [],
      "collapsed_sections": [],
      "toc_visible": true
    },
    "kernelspec": {
      "name": "python3",
      "display_name": "Python 3"
    },
    "accelerator": "GPU"
  },
  "cells": [
    {
      "cell_type": "markdown",
      "metadata": {
        "id": "yhKMYuf5Wg5q"
      },
      "source": [
        "# Toxic comment classification"
      ]
    },
    {
      "cell_type": "code",
      "metadata": {
        "id": "jXJ-iqURd_yT"
      },
      "source": [
        "from itertools import product\n",
        "import pickle\n",
        "import re\n",
        "import nltk\n",
        "from nltk.corpus import stopwords\n",
        "from nltk.tokenize import TweetTokenizer\n",
        "from nltk.stem import PorterStemmer, WordNetLemmatizer\n",
        "from textblob import TextBlob \n",
        "import numpy as np # linear algebra\n",
        "import pandas as pd # data processing, CSV file I/O (e.g. pd.read_csv)\n",
        "from keras.models import Model\n",
        "from keras.layers import Dense, Embedding, Input\n",
        "from keras.layers import LSTM, Bidirectional, GlobalMaxPool1D, Dropout\n",
        "from keras.preprocessing import text, sequence\n",
        "from keras.callbacks import EarlyStopping, ModelCheckpoint\n",
        "from keras.utils import plot_model\n",
        "from keras.models import load_model\n",
        "from sklearn.pipeline import Pipeline\n",
        "from sklearn.metrics import classification_report, precision_recall_fscore_support"
      ],
      "execution_count": null,
      "outputs": []
    },
    {
      "cell_type": "code",
      "metadata": {
        "colab": {
          "base_uri": "https://localhost:8080/"
        },
        "id": "9oMFlZRyfUgq",
        "outputId": "ce5ec336-0e21-4857-c456-6bff927554b4"
      },
      "source": [
        "nltk.download('stopwords')\n",
        "nltk.download('wordnet')"
      ],
      "execution_count": null,
      "outputs": [
        {
          "output_type": "stream",
          "text": [
            "[nltk_data] Downloading package stopwords to /root/nltk_data...\n",
            "[nltk_data]   Package stopwords is already up-to-date!\n",
            "[nltk_data] Downloading package wordnet to /root/nltk_data...\n",
            "[nltk_data]   Package wordnet is already up-to-date!\n"
          ],
          "name": "stdout"
        },
        {
          "output_type": "execute_result",
          "data": {
            "text/plain": [
              "True"
            ]
          },
          "metadata": {
            "tags": []
          },
          "execution_count": 2
        }
      ]
    },
    {
      "cell_type": "code",
      "metadata": {
        "colab": {
          "base_uri": "https://localhost:8080/"
        },
        "id": "UjD_beEKt0FO",
        "outputId": "4f5ef616-db71-499e-f5aa-e04eb816e300"
      },
      "source": [
        "import tensorflow as tf\n",
        "print (\"TensorFlow version: \" + tf.__version__)"
      ],
      "execution_count": null,
      "outputs": [
        {
          "output_type": "stream",
          "text": [
            "TensorFlow version: 2.3.0\n"
          ],
          "name": "stdout"
        }
      ]
    },
    {
      "cell_type": "code",
      "metadata": {
        "id": "iVoPFpmN4uJ7"
      },
      "source": [
        "train = pd.read_csv(\"./drive/MyDrive/datasets/toxic_comments/train.csv\")\n",
        "#test = pd.read_csv(\"./drive/MyDrive/datasets/toxic_comments/test.csv\")"
      ],
      "execution_count": null,
      "outputs": []
    },
    {
      "cell_type": "code",
      "metadata": {
        "colab": {
          "base_uri": "https://localhost:8080/",
          "height": 206
        },
        "id": "z0VIi7yoFRzR",
        "outputId": "bab810ef-50ea-46b8-8fff-ebfa19625c2f"
      },
      "source": [
        "train.head()"
      ],
      "execution_count": null,
      "outputs": [
        {
          "output_type": "execute_result",
          "data": {
            "text/html": [
              "<div>\n",
              "<style scoped>\n",
              "    .dataframe tbody tr th:only-of-type {\n",
              "        vertical-align: middle;\n",
              "    }\n",
              "\n",
              "    .dataframe tbody tr th {\n",
              "        vertical-align: top;\n",
              "    }\n",
              "\n",
              "    .dataframe thead th {\n",
              "        text-align: right;\n",
              "    }\n",
              "</style>\n",
              "<table border=\"1\" class=\"dataframe\">\n",
              "  <thead>\n",
              "    <tr style=\"text-align: right;\">\n",
              "      <th></th>\n",
              "      <th>id</th>\n",
              "      <th>comment_text</th>\n",
              "      <th>toxic</th>\n",
              "      <th>severe_toxic</th>\n",
              "      <th>obscene</th>\n",
              "      <th>threat</th>\n",
              "      <th>insult</th>\n",
              "      <th>identity_hate</th>\n",
              "    </tr>\n",
              "  </thead>\n",
              "  <tbody>\n",
              "    <tr>\n",
              "      <th>0</th>\n",
              "      <td>0000997932d777bf</td>\n",
              "      <td>Explanation\\nWhy the edits made under my usern...</td>\n",
              "      <td>0</td>\n",
              "      <td>0</td>\n",
              "      <td>0</td>\n",
              "      <td>0</td>\n",
              "      <td>0</td>\n",
              "      <td>0</td>\n",
              "    </tr>\n",
              "    <tr>\n",
              "      <th>1</th>\n",
              "      <td>000103f0d9cfb60f</td>\n",
              "      <td>D'aww! He matches this background colour I'm s...</td>\n",
              "      <td>0</td>\n",
              "      <td>0</td>\n",
              "      <td>0</td>\n",
              "      <td>0</td>\n",
              "      <td>0</td>\n",
              "      <td>0</td>\n",
              "    </tr>\n",
              "    <tr>\n",
              "      <th>2</th>\n",
              "      <td>000113f07ec002fd</td>\n",
              "      <td>Hey man, I'm really not trying to edit war. It...</td>\n",
              "      <td>0</td>\n",
              "      <td>0</td>\n",
              "      <td>0</td>\n",
              "      <td>0</td>\n",
              "      <td>0</td>\n",
              "      <td>0</td>\n",
              "    </tr>\n",
              "    <tr>\n",
              "      <th>3</th>\n",
              "      <td>0001b41b1c6bb37e</td>\n",
              "      <td>\"\\nMore\\nI can't make any real suggestions on ...</td>\n",
              "      <td>0</td>\n",
              "      <td>0</td>\n",
              "      <td>0</td>\n",
              "      <td>0</td>\n",
              "      <td>0</td>\n",
              "      <td>0</td>\n",
              "    </tr>\n",
              "    <tr>\n",
              "      <th>4</th>\n",
              "      <td>0001d958c54c6e35</td>\n",
              "      <td>You, sir, are my hero. Any chance you remember...</td>\n",
              "      <td>0</td>\n",
              "      <td>0</td>\n",
              "      <td>0</td>\n",
              "      <td>0</td>\n",
              "      <td>0</td>\n",
              "      <td>0</td>\n",
              "    </tr>\n",
              "  </tbody>\n",
              "</table>\n",
              "</div>"
            ],
            "text/plain": [
              "                 id  ... identity_hate\n",
              "0  0000997932d777bf  ...             0\n",
              "1  000103f0d9cfb60f  ...             0\n",
              "2  000113f07ec002fd  ...             0\n",
              "3  0001b41b1c6bb37e  ...             0\n",
              "4  0001d958c54c6e35  ...             0\n",
              "\n",
              "[5 rows x 8 columns]"
            ]
          },
          "metadata": {
            "tags": []
          },
          "execution_count": 5
        }
      ]
    },
    {
      "cell_type": "markdown",
      "metadata": {
        "id": "QpBre27CGW2T"
      },
      "source": [
        "## Converting from multiclass to binary class"
      ]
    },
    {
      "cell_type": "code",
      "metadata": {
        "colab": {
          "base_uri": "https://localhost:8080/"
        },
        "id": "tr45hCpzFdcg",
        "outputId": "48893e4f-a14f-4c3b-920e-38a605149bc2"
      },
      "source": [
        "classSum = train.iloc[:,2:].sum(axis=1)\n",
        "nonToxic =(classSum==0)\n",
        "print(\"Total of comments, \",len(train))\n",
        "print(\"Total number of non toxic comments: \", nonToxic.sum())\n",
        "print(\"Total number of toxic comments: \", classSum.sum())"
      ],
      "execution_count": null,
      "outputs": [
        {
          "output_type": "stream",
          "text": [
            "Total of comments,  159571\n",
            "Total number of non toxic comments:  143346\n",
            "Total number of toxic comments:  35098\n"
          ],
          "name": "stdout"
        }
      ]
    },
    {
      "cell_type": "code",
      "metadata": {
        "colab": {
          "base_uri": "https://localhost:8080/"
        },
        "id": "aaIBUuBcGhi8",
        "outputId": "e3d4ff97-d490-45d3-ba4b-c3877018eae0"
      },
      "source": [
        "print(\"Number of comments with more than one label: \", (classSum > 1).sum())"
      ],
      "execution_count": null,
      "outputs": [
        {
          "output_type": "stream",
          "text": [
            "Number of comments with more than one label:  9865\n"
          ],
          "name": "stdout"
        }
      ]
    },
    {
      "cell_type": "code",
      "metadata": {
        "id": "1ZneF6YjHXqu"
      },
      "source": [
        "labelScore = list(train.sum(axis = 1, skipna = True))\n",
        "newLabelScore = [1 if (x>0) else 0 for x in labelScore]"
      ],
      "execution_count": null,
      "outputs": []
    },
    {
      "cell_type": "code",
      "metadata": {
        "id": "TwucOiBEIVCI"
      },
      "source": [
        "train['Toxic'] = newLabelScore\n",
        "labelColumns=['toxic','severe_toxic','obscene','threat','insult','identity_hate']\n",
        "data = train.drop(columns=labelColumns)"
      ],
      "execution_count": null,
      "outputs": []
    },
    {
      "cell_type": "code",
      "metadata": {
        "colab": {
          "base_uri": "https://localhost:8080/",
          "height": 363
        },
        "id": "Da3mUdWQJYVi",
        "outputId": "9a35aafb-d80b-496a-ea28-fe4eaa0caa05"
      },
      "source": [
        "data.head(10)"
      ],
      "execution_count": null,
      "outputs": [
        {
          "output_type": "execute_result",
          "data": {
            "text/html": [
              "<div>\n",
              "<style scoped>\n",
              "    .dataframe tbody tr th:only-of-type {\n",
              "        vertical-align: middle;\n",
              "    }\n",
              "\n",
              "    .dataframe tbody tr th {\n",
              "        vertical-align: top;\n",
              "    }\n",
              "\n",
              "    .dataframe thead th {\n",
              "        text-align: right;\n",
              "    }\n",
              "</style>\n",
              "<table border=\"1\" class=\"dataframe\">\n",
              "  <thead>\n",
              "    <tr style=\"text-align: right;\">\n",
              "      <th></th>\n",
              "      <th>id</th>\n",
              "      <th>comment_text</th>\n",
              "      <th>Toxic</th>\n",
              "    </tr>\n",
              "  </thead>\n",
              "  <tbody>\n",
              "    <tr>\n",
              "      <th>0</th>\n",
              "      <td>0000997932d777bf</td>\n",
              "      <td>Explanation\\nWhy the edits made under my usern...</td>\n",
              "      <td>0</td>\n",
              "    </tr>\n",
              "    <tr>\n",
              "      <th>1</th>\n",
              "      <td>000103f0d9cfb60f</td>\n",
              "      <td>D'aww! He matches this background colour I'm s...</td>\n",
              "      <td>0</td>\n",
              "    </tr>\n",
              "    <tr>\n",
              "      <th>2</th>\n",
              "      <td>000113f07ec002fd</td>\n",
              "      <td>Hey man, I'm really not trying to edit war. It...</td>\n",
              "      <td>0</td>\n",
              "    </tr>\n",
              "    <tr>\n",
              "      <th>3</th>\n",
              "      <td>0001b41b1c6bb37e</td>\n",
              "      <td>\"\\nMore\\nI can't make any real suggestions on ...</td>\n",
              "      <td>0</td>\n",
              "    </tr>\n",
              "    <tr>\n",
              "      <th>4</th>\n",
              "      <td>0001d958c54c6e35</td>\n",
              "      <td>You, sir, are my hero. Any chance you remember...</td>\n",
              "      <td>0</td>\n",
              "    </tr>\n",
              "    <tr>\n",
              "      <th>5</th>\n",
              "      <td>00025465d4725e87</td>\n",
              "      <td>\"\\n\\nCongratulations from me as well, use the ...</td>\n",
              "      <td>0</td>\n",
              "    </tr>\n",
              "    <tr>\n",
              "      <th>6</th>\n",
              "      <td>0002bcb3da6cb337</td>\n",
              "      <td>COCKSUCKER BEFORE YOU PISS AROUND ON MY WORK</td>\n",
              "      <td>1</td>\n",
              "    </tr>\n",
              "    <tr>\n",
              "      <th>7</th>\n",
              "      <td>00031b1e95af7921</td>\n",
              "      <td>Your vandalism to the Matt Shirvington article...</td>\n",
              "      <td>0</td>\n",
              "    </tr>\n",
              "    <tr>\n",
              "      <th>8</th>\n",
              "      <td>00037261f536c51d</td>\n",
              "      <td>Sorry if the word 'nonsense' was offensive to ...</td>\n",
              "      <td>0</td>\n",
              "    </tr>\n",
              "    <tr>\n",
              "      <th>9</th>\n",
              "      <td>00040093b2687caa</td>\n",
              "      <td>alignment on this subject and which are contra...</td>\n",
              "      <td>0</td>\n",
              "    </tr>\n",
              "  </tbody>\n",
              "</table>\n",
              "</div>"
            ],
            "text/plain": [
              "                 id                                       comment_text  Toxic\n",
              "0  0000997932d777bf  Explanation\\nWhy the edits made under my usern...      0\n",
              "1  000103f0d9cfb60f  D'aww! He matches this background colour I'm s...      0\n",
              "2  000113f07ec002fd  Hey man, I'm really not trying to edit war. It...      0\n",
              "3  0001b41b1c6bb37e  \"\\nMore\\nI can't make any real suggestions on ...      0\n",
              "4  0001d958c54c6e35  You, sir, are my hero. Any chance you remember...      0\n",
              "5  00025465d4725e87  \"\\n\\nCongratulations from me as well, use the ...      0\n",
              "6  0002bcb3da6cb337       COCKSUCKER BEFORE YOU PISS AROUND ON MY WORK      1\n",
              "7  00031b1e95af7921  Your vandalism to the Matt Shirvington article...      0\n",
              "8  00037261f536c51d  Sorry if the word 'nonsense' was offensive to ...      0\n",
              "9  00040093b2687caa  alignment on this subject and which are contra...      0"
            ]
          },
          "metadata": {
            "tags": []
          },
          "execution_count": 10
        }
      ]
    },
    {
      "cell_type": "code",
      "metadata": {
        "id": "M6QbeVCyf31m"
      },
      "source": [
        "sample = data.sample(frac=0.0001)"
      ],
      "execution_count": null,
      "outputs": []
    },
    {
      "cell_type": "code",
      "metadata": {
        "id": "R21AK0W1eYhf"
      },
      "source": [
        "X_sample = sample[\"comment_text\"].fillna(\"NODATA\").values\n",
        "y_sample = sample['Toxic'].values"
      ],
      "execution_count": null,
      "outputs": []
    },
    {
      "cell_type": "code",
      "metadata": {
        "id": "78-ZCNCyZ-g3"
      },
      "source": [
        "class PreProcessor:\n",
        "    \n",
        "    def __init__(self, noise_chars):\n",
        "        self.noise_chars = noise_chars #declare the noisy characters, we do not use @ or # as we need them for regex extraction\n",
        "    \n",
        "    def removeNoise(self, string):\n",
        "        \"\"\"\n",
        "        This function removes noise from the text by lowering cases, removing character entities\n",
        "        references, removing links, and removing given noisy characters.\n",
        "        \"\"\"\n",
        "        string = string.lower() #converts the text to lower case \n",
        "        string = re.sub('&[a-zA-Z]+;', '', string) #remove character entities reference\n",
        "        string = re.sub('http\\S+', '', string)#remove links\n",
        "        string = re.sub('www\\S+', '', string)\n",
        "        string = re.sub(\"\\\\xa0·\", \" \", string)\n",
        "        string = re.sub(\"(UTC)\", \" \", string)\n",
        "        string = re.sub('^b\\s+', '', string)\n",
        "        string = re.sub('@[A-Za-z0-9]+', 'user', string)\n",
        "        string = re.sub(\"â€\\x9d&lt;\", \"\", string)\n",
        "        string = re.sub(\"â€œ:\", \"\", string)\n",
        "        string = re.sub('pleas', 'please', string)\n",
        "        string = re.sub('dont', 'do not', string)\n",
        "        for char in self.noise_chars:\n",
        "            string = string.replace(char, '') #removes any noisy character from the list noise_chars\n",
        "        cleaned = string #the cleaned string is passed and returned\n",
        "        return cleaned\n",
        "    \n",
        "    def removeStopwords(self, string):\n",
        "        \"\"\"\n",
        "        This function removes stopwords from the text. It uses a corpus of stopwords from NLTK and they \n",
        "        can be extended.\n",
        "        \"\"\"\n",
        "        words = []\n",
        "        for i in string.split(\" \"):#split the text into spaces so it is divided into words\n",
        "            words.append(i) #each word is appended in the list of words\n",
        "        stop_words = stopwords.words('english') #the stopwords corpus provided by NLTK is used for remove them\n",
        "        stop_words.extend(['that','thats','oh', 'aww', 'mr', 'r', 'what', 'etc', 'hey', 'within', 'foi', 'yeah', 'www', 'wa', 'em', 'am', 'i', 'me', 'dialmformurderjpg' ]) #we can extend the list of stopwords in this line\n",
        "        cleaned = [w for w in words if w not in stop_words] #each word in the list of words is checked for stopwords in the corpus\n",
        "        cleaned_stopwords = \" \".join(cleaned)\n",
        "        return cleaned_stopwords\n",
        "    \n",
        "    def textNormalization(self, string):\n",
        "        \"\"\"\n",
        "        This function normalizes text by reducing length of letters in words and correcting spelling of words.\n",
        "        \"\"\"\n",
        "        normalized = []\n",
        "        tokenizer = nltk.tokenize.TweetTokenizer() #we use the TweetTokenizer to reduce length of letters in the words\n",
        "        len_reduced = tokenizer.tokenize(string) #the function is applied to the text returning the length reduced\n",
        "        for word in len_reduced:\n",
        "            check_spell = TextBlob(word) #we use TextBlob spelling checking as the minimum lenght applied by TweetTokenizer is three letters and there can be some mispelled words\n",
        "            normalized.append(str(check_spell.correct())) #it is returned the correct spell of the word and appended to normalized list of words\n",
        "        normalized = \" \".join(normalized)\n",
        "        return normalized\n",
        "    \n",
        "    def stemWords(self, string):\n",
        "        \"\"\"\n",
        "        This function performs stemming of words by chopping off inlfections of words using Port Stemmer algorithm.\n",
        "        Also it corrects mispelling of words.\n",
        "        \"\"\"\n",
        "        words = []\n",
        "        stemmed = []\n",
        "        for i in string.split(\" \"):\n",
        "            words.append(i)\n",
        "        stemmer = PorterStemmer() #it is used PorterStemmer to reducing inflection of words to their original word form\n",
        "        stemmed_words = [stemmer.stem(w) for w in words] #it is applied to each word\n",
        "        for word in stemmed_words:\n",
        "            check_spell = TextBlob(word) #again, we use spelling checking as some words might result mispelled or not complete\n",
        "            stemmed.append(str(check_spell.correct()))\n",
        "        stemmed = \" \".join(stemmed)\n",
        "        return stemmed\n",
        "    \n",
        "    def lemmatizeWords(self, string):\n",
        "        \"\"\"\n",
        "        This function performs word lemmatization by transforming inflections of words in their root form using\n",
        "        WordNetLemmatization from NLTK. Also it checks mispelling of words.\n",
        "        \"\"\"\n",
        "        words = []\n",
        "        lemmatized = []\n",
        "        for i in string.split(\" \"):\n",
        "            words.append(i)\n",
        "        lemmatizer = WordNetLemmatizer() #it is used WordNetLemmatizer to transform word inflections to root form. It is similar to stemming but it does not just chop off words.\n",
        "        lemmatized_words = [lemmatizer.lemmatize(w) for w in words] #it is applied to each word\n",
        "        for word in lemmatized_words:\n",
        "            check_spell = TextBlob(word) #again, we use spelling checking as some words might result mispelled or not complete\n",
        "            lemmatized.append(str(check_spell.correct()))\n",
        "        lemmatized = \" \".join(lemmatized)\n",
        "        return lemmatized\n",
        "    \n",
        "    def wordTokenize(self, string):\n",
        "        \"\"\"\n",
        "        This function performs word tokenization using regular expressions.\n",
        "        \"\"\"\n",
        "        regex = \"[a-zA-Z]+\" #this is another form to split the sentences into words by using regular expressions\n",
        "        tokenized = re.findall(regex, string) #it finds all the matching cases of the regex in the string text and it return a list of words\n",
        "        return tokenized\n",
        "\n",
        "    \n",
        "    def process(self, string):\n",
        "        \"\"\"\n",
        "        This function summarizes and apply all the preprocessing tasks.\n",
        "        \"\"\"\n",
        "        cleaned = self.removeNoise(string)\n",
        "        cleaned_stopwords = self.removeStopwords(cleaned)\n",
        "        normalized = self.textNormalization(cleaned_stopwords)\n",
        "        stemmed = self.stemWords(normalized)\n",
        "        #lemmatized = self.lemmatizeWords(normalized)\n",
        "        tokenized = \" \".join(self.wordTokenize(stemmed))\n",
        "        cleaned = self.removeNoise(tokenized)\n",
        "        preprocessed = self.removeStopwords(cleaned)\n",
        "        return preprocessed"
      ],
      "execution_count": null,
      "outputs": []
    },
    {
      "cell_type": "code",
      "metadata": {
        "id": "Ci48FYSXdP07"
      },
      "source": [
        "class Classifier:\n",
        "\n",
        "  def __init__(self, pre_processor = None, max_features=20000, maxlen=100):\n",
        "    self.preProcessor = pre_processor if pre_processor else PreProcessor(\"#@,.?!¬-\\''=()\") #this calls the PreProcessor class\n",
        "    self.max_features = max_features\n",
        "    self.maxlen = maxlen\n",
        "\n",
        "  def prepare_data(self, X):\n",
        "    try:\n",
        "      #if type(X.shape) is tuple:\n",
        "      preprocessed = []\n",
        "      for comment in X:\n",
        "          preprocessed.append(self.preProcessor.process(comment))\n",
        "      pickle.dump(preprocessed, open('preprocessed_comments.pickle','wb')) #save preprocessed comments in a pickle file\n",
        "      data_prepared = self.vectorize(preprocessed)\n",
        "    except:\n",
        "      #elif type(X.shape[0]) is int:\n",
        "      preprocessed = self.preProcessor.process(X)\n",
        "      data_prepared = self.vectorize(preprocessed)\n",
        "\n",
        "    return data_prepared\n",
        "\n",
        "  def get_model(self):\n",
        "    \"\"\"\n",
        "    A Keras model consists of:\n",
        "    An architecture, or configuration, which specifies what layers the model contain, and how they're connected.\n",
        "    A set of weights values (the \"state of the model\").\n",
        "    An optimizer state (defined by compiling the model).\n",
        "    A set of losses and metrics (defined by compiling the model).\n",
        "    \"\"\"\n",
        "    #define the architecture of the neural network\n",
        "    embed_size = 128\n",
        "    inp = Input(shape=(self.maxlen, )) #input layer\n",
        "    x = Embedding(self.max_features, embed_size)(inp) #useful for NLP tasks\n",
        "    x = Bidirectional(LSTM(50, return_sequences=True))(x) #50 neurons; bidirectional used for give information backwards\n",
        "    x = GlobalMaxPool1D()(x) #to get highest activation of the previous layer\n",
        "    x = Dropout(0.1)(x) #Regularization strategy\n",
        "    x = Dense(64, activation=\"relu\")(x) #fully connected  \n",
        "    x = Dropout(0.1)(x)\n",
        "    x = Dense(1, activation=\"sigmoid\")(x) #1 neuron for only one class (toxic or non-toxic), change according to the number of classes \n",
        "    model = Model(inputs=inp, outputs=x)\n",
        "    model.compile(loss='binary_crossentropy',\n",
        "                  optimizer='adam',\n",
        "                  metrics=['accuracy'])\n",
        "\n",
        "    return model\n",
        "\n",
        "  def vectorize(self, X):\n",
        "    list_sentences = X\n",
        "    tokenizer = text.Tokenizer(num_words=self.max_features)\n",
        "    tokenizer.fit_on_texts(list(list_sentences))\n",
        "    list_tokenized = tokenizer.texts_to_sequences(list_sentences) #receive text and return a sequence (indexes of the words)\n",
        "    X_vector = sequence.pad_sequences(list_tokenized, maxlen=self.maxlen) #pads with zeros to fulfill the maxlen if not reached\n",
        "    \n",
        "    return X_vector\n",
        "\n",
        "  def fit(self, X, y, batch_size=32, epochs=2):\n",
        "    self.X_vector = self.prepare_data(X)\n",
        "    model = self.get_model()\n",
        "    self.batch_size = batch_size #number of samples of the network in order to estimate the gradient\n",
        "    self.epochs = epochs\n",
        "\n",
        "    #Defining the callbacks\n",
        "    file_path=\"weights_base.best.hdf5\"\n",
        "    checkpoint = ModelCheckpoint(file_path, monitor='val_loss', verbose=1, save_best_only=True, mode='min') #after each epoch, saves the best weights of the best neural network\n",
        "\n",
        "    early = EarlyStopping(monitor=\"val_loss\", mode=\"min\", patience=20) #monitors if validation loss is getting worse, it stops\n",
        "\n",
        "    callbacks_list = [checkpoint, early]\n",
        "    model.fit(self.X_vector, y, batch_size=self.batch_size, epochs=self.epochs, validation_split=0.1, callbacks=callbacks_list)\n",
        "\n",
        "    #loss, acc = model.evaluate(self.X_vector, y, verbose=2)\n",
        "    #print('Restored model, accuracy: {:5.2f}%'.format(100 * acc))\n",
        "\n",
        "    model.load_weights(file_path)\n",
        "    model.save('classificationModel_compiled')\n",
        "\n",
        "\n",
        "  def predict(self, X):\n",
        "    X_vector = self.prepare_data(X)\n",
        "    self.model = load_model('classificationModel_compiled')\n",
        "    return self.model.predict(X_vector)\n",
        "\n",
        "  def summarize(self):\n",
        "    model = self.get_model()\n",
        "    model.summary()\n",
        "\n",
        "  def evaluate(self, X, y):\n",
        "    X_vector = self.prepare_data(X)\n",
        "    loss, acc = model.evaluate(self.X_vector, y, verbose=2)\n",
        "    print('Restored model, accuracy: {:5.2f}%'.format(100 * acc))\n",
        "\n",
        "  def plot_model(self):\n",
        "    plot_model(self.get_model())"
      ],
      "execution_count": null,
      "outputs": []
    },
    {
      "cell_type": "code",
      "metadata": {
        "id": "CknM8xRy1xs3"
      },
      "source": [
        "classifier = Classifier()"
      ],
      "execution_count": null,
      "outputs": []
    },
    {
      "cell_type": "code",
      "metadata": {
        "colab": {
          "base_uri": "https://localhost:8080/"
        },
        "id": "IHcgdauK13an",
        "outputId": "cd0e8494-6141-49a6-e894-06e0a4211ab8"
      },
      "source": [
        "classifier.fit(X_sample, y_sample)"
      ],
      "execution_count": null,
      "outputs": [
        {
          "output_type": "stream",
          "text": [
            "Epoch 1/2\n",
            "1/1 [==============================] - ETA: 0s - loss: 0.6849 - accuracy: 0.9286\n",
            "Epoch 00001: val_loss improved from inf to 0.66708, saving model to weights_base.best.hdf5\n",
            "1/1 [==============================] - 1s 715ms/step - loss: 0.6849 - accuracy: 0.9286 - val_loss: 0.6671 - val_accuracy: 1.0000\n",
            "Epoch 2/2\n",
            "1/1 [==============================] - ETA: 0s - loss: 0.6678 - accuracy: 0.9286\n",
            "Epoch 00002: val_loss improved from 0.66708 to 0.64521, saving model to weights_base.best.hdf5\n",
            "1/1 [==============================] - 1s 835ms/step - loss: 0.6678 - accuracy: 0.9286 - val_loss: 0.6452 - val_accuracy: 1.0000\n",
            "WARNING:tensorflow:From /usr/local/lib/python3.6/dist-packages/tensorflow/python/training/tracking/tracking.py:111: Model.state_updates (from tensorflow.python.keras.engine.training) is deprecated and will be removed in a future version.\n",
            "Instructions for updating:\n",
            "This property should not be used in TensorFlow 2.0, as updates are applied automatically.\n",
            "WARNING:tensorflow:From /usr/local/lib/python3.6/dist-packages/tensorflow/python/training/tracking/tracking.py:111: Layer.updates (from tensorflow.python.keras.engine.base_layer) is deprecated and will be removed in a future version.\n",
            "Instructions for updating:\n",
            "This property should not be used in TensorFlow 2.0, as updates are applied automatically.\n",
            "INFO:tensorflow:Assets written to: classificationModel_compiled/assets\n"
          ],
          "name": "stdout"
        }
      ]
    },
    {
      "cell_type": "code",
      "metadata": {
        "id": "RhbKeleq1JNe"
      },
      "source": [
        "predicted = classifier.predict(X_sample)"
      ],
      "execution_count": null,
      "outputs": []
    },
    {
      "cell_type": "code",
      "metadata": {
        "colab": {
          "base_uri": "https://localhost:8080/"
        },
        "id": "6BosWlsCJw2W",
        "outputId": "b4c7a3bc-c8ff-4dff-a7b3-3b6035dae249"
      },
      "source": [
        "print(classification_report(y_sample, predicted.round(), digits=4, zero_division=0))"
      ],
      "execution_count": null,
      "outputs": [
        {
          "output_type": "stream",
          "text": [
            "              precision    recall  f1-score   support\n",
            "\n",
            "           0   1.000000  1.000000  1.000000        16\n",
            "\n",
            "    accuracy                       1.000000        16\n",
            "   macro avg   1.000000  1.000000  1.000000        16\n",
            "weighted avg   1.000000  1.000000  1.000000        16\n",
            "\n"
          ],
          "name": "stdout"
        }
      ]
    },
    {
      "cell_type": "code",
      "metadata": {
        "colab": {
          "base_uri": "https://localhost:8080/"
        },
        "id": "_ZoRvaGqLhLu",
        "outputId": "c1f1105e-5f16-49e7-eb24-af58968e6470"
      },
      "source": [
        "classifier.summarize()"
      ],
      "execution_count": null,
      "outputs": [
        {
          "output_type": "stream",
          "text": [
            "Model: \"functional_3\"\n",
            "_________________________________________________________________\n",
            "Layer (type)                 Output Shape              Param #   \n",
            "=================================================================\n",
            "input_2 (InputLayer)         [(None, 100)]             0         \n",
            "_________________________________________________________________\n",
            "embedding_1 (Embedding)      (None, 100, 128)          2560000   \n",
            "_________________________________________________________________\n",
            "bidirectional_1 (Bidirection (None, 100, 100)          71600     \n",
            "_________________________________________________________________\n",
            "global_max_pooling1d_1 (Glob (None, 100)               0         \n",
            "_________________________________________________________________\n",
            "dropout_2 (Dropout)          (None, 100)               0         \n",
            "_________________________________________________________________\n",
            "dense_2 (Dense)              (None, 50)                5050      \n",
            "_________________________________________________________________\n",
            "dropout_3 (Dropout)          (None, 50)                0         \n",
            "_________________________________________________________________\n",
            "dense_3 (Dense)              (None, 1)                 51        \n",
            "=================================================================\n",
            "Total params: 2,636,701\n",
            "Trainable params: 2,636,701\n",
            "Non-trainable params: 0\n",
            "_________________________________________________________________\n"
          ],
          "name": "stdout"
        }
      ]
    },
    {
      "cell_type": "code",
      "metadata": {
        "id": "qbFoJHTv60HB"
      },
      "source": [
        ""
      ],
      "execution_count": null,
      "outputs": []
    }
  ]
}