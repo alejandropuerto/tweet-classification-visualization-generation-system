{
  "nbformat": 4,
  "nbformat_minor": 0,
  "metadata": {
    "colab": {
      "name": "Copy of A5 Toxic comment classification.ipynb",
      "provenance": [],
      "collapsed_sections": []
    },
    "kernelspec": {
      "name": "python3",
      "display_name": "Python 3"
    },
    "accelerator": "GPU"
  },
  "cells": [
    {
      "cell_type": "markdown",
      "metadata": {
        "id": "yhKMYuf5Wg5q"
      },
      "source": [
        "# Toxic comment classification"
      ]
    },
    {
      "cell_type": "code",
      "metadata": {
        "id": "jXJ-iqURd_yT"
      },
      "source": [
        "from itertools import product\n",
        "import random\n",
        "import pickle\n",
        "import re\n",
        "import nltk\n",
        "from nltk.corpus import stopwords\n",
        "from nltk.tokenize import TweetTokenizer\n",
        "from nltk.stem import PorterStemmer, WordNetLemmatizer\n",
        "from textblob import TextBlob \n",
        "import numpy as np # linear algebra\n",
        "import pandas as pd # data processing, CSV file I/O (e.g. pd.read_csv)\n",
        "from sklearn.model_selection import train_test_split\n",
        "from keras.models import Model\n",
        "from keras.layers import Dense, Embedding, Input\n",
        "from keras.layers import LSTM, Bidirectional, GlobalMaxPool1D, Dropout\n",
        "from keras.preprocessing import text, sequence\n",
        "from keras.callbacks import EarlyStopping, ModelCheckpoint\n",
        "from keras.utils import plot_model\n",
        "from keras.models import load_model\n",
        "from sklearn.pipeline import Pipeline\n",
        "from sklearn.metrics import classification_report, precision_recall_fscore_support\n",
        "import seaborn as sns\n",
        "import matplotlib.pyplot as plt"
      ],
      "execution_count": 1,
      "outputs": []
    },
    {
      "cell_type": "code",
      "metadata": {
        "colab": {
          "base_uri": "https://localhost:8080/"
        },
        "id": "9oMFlZRyfUgq",
        "outputId": "72f60514-9efb-4074-a9f0-bce93a42ffe6"
      },
      "source": [
        "nltk.download('stopwords')\n",
        "nltk.download('wordnet')"
      ],
      "execution_count": 2,
      "outputs": [
        {
          "output_type": "stream",
          "text": [
            "[nltk_data] Downloading package stopwords to /root/nltk_data...\n",
            "[nltk_data]   Unzipping corpora/stopwords.zip.\n",
            "[nltk_data] Downloading package wordnet to /root/nltk_data...\n",
            "[nltk_data]   Unzipping corpora/wordnet.zip.\n"
          ],
          "name": "stdout"
        },
        {
          "output_type": "execute_result",
          "data": {
            "text/plain": [
              "True"
            ]
          },
          "metadata": {
            "tags": []
          },
          "execution_count": 2
        }
      ]
    },
    {
      "cell_type": "code",
      "metadata": {
        "colab": {
          "base_uri": "https://localhost:8080/"
        },
        "id": "UjD_beEKt0FO",
        "outputId": "7a7f8fab-59cc-4ee1-c94a-36ad12f01f25"
      },
      "source": [
        "import tensorflow as tf\n",
        "print (\"TensorFlow version: \" + tf.__version__)"
      ],
      "execution_count": 3,
      "outputs": [
        {
          "output_type": "stream",
          "text": [
            "TensorFlow version: 2.3.0\n"
          ],
          "name": "stdout"
        }
      ]
    },
    {
      "cell_type": "code",
      "metadata": {
        "id": "iVoPFpmN4uJ7"
      },
      "source": [
        "train = pd.read_csv(\"./drive/MyDrive/datasets/toxic_comments/train.csv\")\n",
        "#test = pd.read_csv(\"./drive/MyDrive/datasets/toxic_comments/test.csv\")"
      ],
      "execution_count": 4,
      "outputs": []
    },
    {
      "cell_type": "code",
      "metadata": {
        "colab": {
          "base_uri": "https://localhost:8080/",
          "height": 276
        },
        "id": "z0VIi7yoFRzR",
        "outputId": "072a37d7-7d98-4d68-b94c-d6f33e490105"
      },
      "source": [
        "train.head()"
      ],
      "execution_count": 5,
      "outputs": [
        {
          "output_type": "execute_result",
          "data": {
            "text/html": [
              "<div>\n",
              "<style scoped>\n",
              "    .dataframe tbody tr th:only-of-type {\n",
              "        vertical-align: middle;\n",
              "    }\n",
              "\n",
              "    .dataframe tbody tr th {\n",
              "        vertical-align: top;\n",
              "    }\n",
              "\n",
              "    .dataframe thead th {\n",
              "        text-align: right;\n",
              "    }\n",
              "</style>\n",
              "<table border=\"1\" class=\"dataframe\">\n",
              "  <thead>\n",
              "    <tr style=\"text-align: right;\">\n",
              "      <th></th>\n",
              "      <th>id</th>\n",
              "      <th>comment_text</th>\n",
              "      <th>toxic</th>\n",
              "      <th>severe_toxic</th>\n",
              "      <th>obscene</th>\n",
              "      <th>threat</th>\n",
              "      <th>insult</th>\n",
              "      <th>identity_hate</th>\n",
              "    </tr>\n",
              "  </thead>\n",
              "  <tbody>\n",
              "    <tr>\n",
              "      <th>0</th>\n",
              "      <td>0000997932d777bf</td>\n",
              "      <td>Explanation\\nWhy the edits made under my usern...</td>\n",
              "      <td>0</td>\n",
              "      <td>0</td>\n",
              "      <td>0</td>\n",
              "      <td>0</td>\n",
              "      <td>0</td>\n",
              "      <td>0</td>\n",
              "    </tr>\n",
              "    <tr>\n",
              "      <th>1</th>\n",
              "      <td>000103f0d9cfb60f</td>\n",
              "      <td>D'aww! He matches this background colour I'm s...</td>\n",
              "      <td>0</td>\n",
              "      <td>0</td>\n",
              "      <td>0</td>\n",
              "      <td>0</td>\n",
              "      <td>0</td>\n",
              "      <td>0</td>\n",
              "    </tr>\n",
              "    <tr>\n",
              "      <th>2</th>\n",
              "      <td>000113f07ec002fd</td>\n",
              "      <td>Hey man, I'm really not trying to edit war. It...</td>\n",
              "      <td>0</td>\n",
              "      <td>0</td>\n",
              "      <td>0</td>\n",
              "      <td>0</td>\n",
              "      <td>0</td>\n",
              "      <td>0</td>\n",
              "    </tr>\n",
              "    <tr>\n",
              "      <th>3</th>\n",
              "      <td>0001b41b1c6bb37e</td>\n",
              "      <td>\"\\nMore\\nI can't make any real suggestions on ...</td>\n",
              "      <td>0</td>\n",
              "      <td>0</td>\n",
              "      <td>0</td>\n",
              "      <td>0</td>\n",
              "      <td>0</td>\n",
              "      <td>0</td>\n",
              "    </tr>\n",
              "    <tr>\n",
              "      <th>4</th>\n",
              "      <td>0001d958c54c6e35</td>\n",
              "      <td>You, sir, are my hero. Any chance you remember...</td>\n",
              "      <td>0</td>\n",
              "      <td>0</td>\n",
              "      <td>0</td>\n",
              "      <td>0</td>\n",
              "      <td>0</td>\n",
              "      <td>0</td>\n",
              "    </tr>\n",
              "  </tbody>\n",
              "</table>\n",
              "</div>"
            ],
            "text/plain": [
              "                 id  ... identity_hate\n",
              "0  0000997932d777bf  ...             0\n",
              "1  000103f0d9cfb60f  ...             0\n",
              "2  000113f07ec002fd  ...             0\n",
              "3  0001b41b1c6bb37e  ...             0\n",
              "4  0001d958c54c6e35  ...             0\n",
              "\n",
              "[5 rows x 8 columns]"
            ]
          },
          "metadata": {
            "tags": []
          },
          "execution_count": 5
        }
      ]
    },
    {
      "cell_type": "markdown",
      "metadata": {
        "id": "QpBre27CGW2T"
      },
      "source": [
        "## Converting from multiclass to binary class"
      ]
    },
    {
      "cell_type": "code",
      "metadata": {
        "colab": {
          "base_uri": "https://localhost:8080/"
        },
        "id": "tr45hCpzFdcg",
        "outputId": "43dd94d8-e72a-4be2-a9c6-7fe3c8c616ea"
      },
      "source": [
        "classSum = train.iloc[:,2:].sum(axis=1)\n",
        "nonToxic =(classSum==0)\n",
        "print(\"Total of comments, \",len(train))\n",
        "print(\"Total number of non toxic comments: \", nonToxic.sum())\n",
        "print(\"Total number of toxic comments: \", (classSum >= 1).sum())"
      ],
      "execution_count": 6,
      "outputs": [
        {
          "output_type": "stream",
          "text": [
            "Total of comments,  159571\n",
            "Total number of non toxic comments:  143346\n",
            "Total number of toxic comments:  16225\n"
          ],
          "name": "stdout"
        }
      ]
    },
    {
      "cell_type": "code",
      "metadata": {
        "colab": {
          "base_uri": "https://localhost:8080/"
        },
        "id": "aaIBUuBcGhi8",
        "outputId": "7dd085db-61ef-453f-db71-7096f211aff7"
      },
      "source": [
        "print(\"Number of comments with more than one label: \", (classSum > 1).sum())"
      ],
      "execution_count": 7,
      "outputs": [
        {
          "output_type": "stream",
          "text": [
            "Number of comments with more than one label:  9865\n"
          ],
          "name": "stdout"
        }
      ]
    },
    {
      "cell_type": "code",
      "metadata": {
        "id": "1ZneF6YjHXqu"
      },
      "source": [
        "labelScore = list(train.sum(axis = 1, skipna = True))\n",
        "newLabelScore = [1 if (x>0) else 0 for x in labelScore]"
      ],
      "execution_count": 8,
      "outputs": []
    },
    {
      "cell_type": "code",
      "metadata": {
        "id": "TwucOiBEIVCI"
      },
      "source": [
        "train['Toxic'] = newLabelScore\n",
        "labelColumns=['toxic','severe_toxic','obscene','threat','insult','identity_hate']\n",
        "data = train.drop(columns=labelColumns)"
      ],
      "execution_count": 9,
      "outputs": []
    },
    {
      "cell_type": "code",
      "metadata": {
        "colab": {
          "base_uri": "https://localhost:8080/",
          "height": 363
        },
        "id": "Da3mUdWQJYVi",
        "outputId": "ecba037f-9d7e-4c68-a349-d38afe0d2b78"
      },
      "source": [
        "data.head(10)"
      ],
      "execution_count": 10,
      "outputs": [
        {
          "output_type": "execute_result",
          "data": {
            "text/html": [
              "<div>\n",
              "<style scoped>\n",
              "    .dataframe tbody tr th:only-of-type {\n",
              "        vertical-align: middle;\n",
              "    }\n",
              "\n",
              "    .dataframe tbody tr th {\n",
              "        vertical-align: top;\n",
              "    }\n",
              "\n",
              "    .dataframe thead th {\n",
              "        text-align: right;\n",
              "    }\n",
              "</style>\n",
              "<table border=\"1\" class=\"dataframe\">\n",
              "  <thead>\n",
              "    <tr style=\"text-align: right;\">\n",
              "      <th></th>\n",
              "      <th>id</th>\n",
              "      <th>comment_text</th>\n",
              "      <th>Toxic</th>\n",
              "    </tr>\n",
              "  </thead>\n",
              "  <tbody>\n",
              "    <tr>\n",
              "      <th>0</th>\n",
              "      <td>0000997932d777bf</td>\n",
              "      <td>Explanation\\nWhy the edits made under my usern...</td>\n",
              "      <td>0</td>\n",
              "    </tr>\n",
              "    <tr>\n",
              "      <th>1</th>\n",
              "      <td>000103f0d9cfb60f</td>\n",
              "      <td>D'aww! He matches this background colour I'm s...</td>\n",
              "      <td>0</td>\n",
              "    </tr>\n",
              "    <tr>\n",
              "      <th>2</th>\n",
              "      <td>000113f07ec002fd</td>\n",
              "      <td>Hey man, I'm really not trying to edit war. It...</td>\n",
              "      <td>0</td>\n",
              "    </tr>\n",
              "    <tr>\n",
              "      <th>3</th>\n",
              "      <td>0001b41b1c6bb37e</td>\n",
              "      <td>\"\\nMore\\nI can't make any real suggestions on ...</td>\n",
              "      <td>0</td>\n",
              "    </tr>\n",
              "    <tr>\n",
              "      <th>4</th>\n",
              "      <td>0001d958c54c6e35</td>\n",
              "      <td>You, sir, are my hero. Any chance you remember...</td>\n",
              "      <td>0</td>\n",
              "    </tr>\n",
              "    <tr>\n",
              "      <th>5</th>\n",
              "      <td>00025465d4725e87</td>\n",
              "      <td>\"\\n\\nCongratulations from me as well, use the ...</td>\n",
              "      <td>0</td>\n",
              "    </tr>\n",
              "    <tr>\n",
              "      <th>6</th>\n",
              "      <td>0002bcb3da6cb337</td>\n",
              "      <td>COCKSUCKER BEFORE YOU PISS AROUND ON MY WORK</td>\n",
              "      <td>1</td>\n",
              "    </tr>\n",
              "    <tr>\n",
              "      <th>7</th>\n",
              "      <td>00031b1e95af7921</td>\n",
              "      <td>Your vandalism to the Matt Shirvington article...</td>\n",
              "      <td>0</td>\n",
              "    </tr>\n",
              "    <tr>\n",
              "      <th>8</th>\n",
              "      <td>00037261f536c51d</td>\n",
              "      <td>Sorry if the word 'nonsense' was offensive to ...</td>\n",
              "      <td>0</td>\n",
              "    </tr>\n",
              "    <tr>\n",
              "      <th>9</th>\n",
              "      <td>00040093b2687caa</td>\n",
              "      <td>alignment on this subject and which are contra...</td>\n",
              "      <td>0</td>\n",
              "    </tr>\n",
              "  </tbody>\n",
              "</table>\n",
              "</div>"
            ],
            "text/plain": [
              "                 id                                       comment_text  Toxic\n",
              "0  0000997932d777bf  Explanation\\nWhy the edits made under my usern...      0\n",
              "1  000103f0d9cfb60f  D'aww! He matches this background colour I'm s...      0\n",
              "2  000113f07ec002fd  Hey man, I'm really not trying to edit war. It...      0\n",
              "3  0001b41b1c6bb37e  \"\\nMore\\nI can't make any real suggestions on ...      0\n",
              "4  0001d958c54c6e35  You, sir, are my hero. Any chance you remember...      0\n",
              "5  00025465d4725e87  \"\\n\\nCongratulations from me as well, use the ...      0\n",
              "6  0002bcb3da6cb337       COCKSUCKER BEFORE YOU PISS AROUND ON MY WORK      1\n",
              "7  00031b1e95af7921  Your vandalism to the Matt Shirvington article...      0\n",
              "8  00037261f536c51d  Sorry if the word 'nonsense' was offensive to ...      0\n",
              "9  00040093b2687caa  alignment on this subject and which are contra...      0"
            ]
          },
          "metadata": {
            "tags": []
          },
          "execution_count": 10
        }
      ]
    },
    {
      "cell_type": "markdown",
      "metadata": {
        "id": "1J2Y2zQ2B8xR"
      },
      "source": [
        "### Solving undersampling by balancing the data\n"
      ]
    },
    {
      "cell_type": "code",
      "metadata": {
        "colab": {
          "base_uri": "https://localhost:8080/",
          "height": 391
        },
        "id": "xcEW8N2QrXQ5",
        "outputId": "5000aee1-eb98-4d83-ac9c-f6134ae2a34a"
      },
      "source": [
        "\n",
        "print(data.Toxic.value_counts())\n",
        "sns.countplot(data.Toxic)\n",
        "plt.show()"
      ],
      "execution_count": 11,
      "outputs": [
        {
          "output_type": "stream",
          "text": [
            "0    143346\n",
            "1     16225\n",
            "Name: Toxic, dtype: int64\n"
          ],
          "name": "stdout"
        },
        {
          "output_type": "stream",
          "text": [
            "/usr/local/lib/python3.6/dist-packages/seaborn/_decorators.py:43: FutureWarning: Pass the following variable as a keyword arg: x. From version 0.12, the only valid positional argument will be `data`, and passing other arguments without an explicit keyword will result in an error or misinterpretation.\n",
            "  FutureWarning\n"
          ],
          "name": "stderr"
        },
        {
          "output_type": "display_data",
          "data": {
            "image/png": "[encoded data removed]",
            "text/plain": [
              "<Figure size 432x288 with 1 Axes>"
            ]
          },
          "metadata": {
            "tags": [],
            "needs_background": "light"
          }
        }
      ]
    },
    {
      "cell_type": "code",
      "metadata": {
        "colab": {
          "base_uri": "https://localhost:8080/",
          "height": 354
        },
        "id": "twhqsYqTto_b",
        "outputId": "7adfef77-1bfb-41a3-d597-59678f6e3246"
      },
      "source": [
        "from sklearn.utils import resample\n",
        "toxic = data[data.Toxic ==1]\n",
        "not_toxic = data[data.Toxic == 0]\n",
        "\n",
        "downsampled = resample(not_toxic,\n",
        "                       replace = False, # sample without replacement\n",
        "                       n_samples = len(toxic), # match minority n\n",
        "                       random_state = 42) # reproducible results\n",
        "data = pd.concat([downsampled, toxic])\n",
        "sns.countplot(data.Toxic)"
      ],
      "execution_count": 12,
      "outputs": [
        {
          "output_type": "stream",
          "text": [
            "/usr/local/lib/python3.6/dist-packages/seaborn/_decorators.py:43: FutureWarning: Pass the following variable as a keyword arg: x. From version 0.12, the only valid positional argument will be `data`, and passing other arguments without an explicit keyword will result in an error or misinterpretation.\n",
            "  FutureWarning\n"
          ],
          "name": "stderr"
        },
        {
          "output_type": "execute_result",
          "data": {
            "text/plain": [
              "<matplotlib.axes._subplots.AxesSubplot at 0x7fa565c06cf8>"
            ]
          },
          "metadata": {
            "tags": []
          },
          "execution_count": 12
        },
        {
          "output_type": "display_data",
          "data": {
            "image/png": "[encoded data removed]",
            "text/plain": [
              "<Figure size 432x288 with 1 Axes>"
            ]
          },
          "metadata": {
            "tags": [],
            "needs_background": "light"
          }
        }
      ]
    },
    {
      "cell_type": "code",
      "metadata": {
        "colab": {
          "base_uri": "https://localhost:8080/"
        },
        "id": "M7ToOYGkt9HG",
        "outputId": "9381b812-5505-4065-8a9b-7ebb74ecc80d"
      },
      "source": [
        "data.shape"
      ],
      "execution_count": 13,
      "outputs": [
        {
          "output_type": "execute_result",
          "data": {
            "text/plain": [
              "(32450, 3)"
            ]
          },
          "metadata": {
            "tags": []
          },
          "execution_count": 13
        }
      ]
    },
    {
      "cell_type": "code",
      "metadata": {
        "id": "M6QbeVCyf31m"
      },
      "source": [
        "#sample = data.sample(frac=0.0001)"
      ],
      "execution_count": 14,
      "outputs": []
    },
    {
      "cell_type": "code",
      "metadata": {
        "id": "KTSWlk4t-UUy"
      },
      "source": [
        "#sample = data[:50000]"
      ],
      "execution_count": 15,
      "outputs": []
    },
    {
      "cell_type": "code",
      "metadata": {
        "id": "R21AK0W1eYhf"
      },
      "source": [
        "#X = data[\"comment_text\"].fillna(\"NODATA\").values\n",
        "#y = data['Toxic'].values"
      ],
      "execution_count": 16,
      "outputs": []
    },
    {
      "cell_type": "markdown",
      "metadata": {
        "id": "spM9tn9sQUJ0"
      },
      "source": [
        "### Load previously saved preprocessed data"
      ]
    },
    {
      "cell_type": "code",
      "metadata": {
        "id": "zI4DyOAC_hnk"
      },
      "source": [
        "non_toxic1 = pickle.load(open('preprocessed_comments_no_toxic_X1.pickle','rb'))\n",
        "non_toxic2 = pickle.load(open('preprocessed_comments_no_toxic_X2.pickle','rb'))\n",
        "toxic1 = pickle.load(open('/content/preprocessed_comments_toxic_X1_1.pickle','rb'))\n",
        "toxic2 = pickle.load(open('/content/preprocessed_comments_toxic_X2_1.pickle','rb'))\n",
        "toxic3 = pickle.load(open('/content/preprocessed_comments_toxic_X1_2.pickle','rb'))\n",
        "toxic4 = pickle.load(open('/content/preprocessed_comments_toxic_X2_2.pickle','rb'))"
      ],
      "execution_count": 17,
      "outputs": []
    },
    {
      "cell_type": "code",
      "metadata": {
        "id": "H8HjU7RrAUqu"
      },
      "source": [
        "non_toxic = non_toxic1 + non_toxic2\n",
        "toxic = toxic1 + toxic2 + toxic3 + toxic4"
      ],
      "execution_count": 18,
      "outputs": []
    },
    {
      "cell_type": "code",
      "metadata": {
        "id": "KclOi0QgV0OF"
      },
      "source": [
        "non_toxic_df = pd.DataFrame(data=non_toxic, columns=['comment_text'])\n",
        "toxic_df = pd.DataFrame(data=toxic, columns=['comment_text'])"
      ],
      "execution_count": 19,
      "outputs": []
    },
    {
      "cell_type": "code",
      "metadata": {
        "id": "KAtytSTNqDtm"
      },
      "source": [
        "non_toxic_df['toxic'] = np.zeros(len(non_toxic)).astype(int)\n",
        "toxic_df['toxic'] = np.ones(len(toxic)).astype(int)"
      ],
      "execution_count": 20,
      "outputs": []
    },
    {
      "cell_type": "code",
      "metadata": {
        "colab": {
          "base_uri": "https://localhost:8080/",
          "height": 424
        },
        "id": "U5FORjriqzMt",
        "outputId": "425f1401-8cd4-4db2-f818-28d7c9aa48ad"
      },
      "source": [
        "prep_data = pd.concat([non_toxic_df, toxic_df], ignore_index=True).drop_duplicates() #drop duplicates\n",
        "prep_data"
      ],
      "execution_count": 21,
      "outputs": [
        {
          "output_type": "execute_result",
          "data": {
            "text/html": [
              "<div>\n",
              "<style scoped>\n",
              "    .dataframe tbody tr th:only-of-type {\n",
              "        vertical-align: middle;\n",
              "    }\n",
              "\n",
              "    .dataframe tbody tr th {\n",
              "        vertical-align: top;\n",
              "    }\n",
              "\n",
              "    .dataframe thead th {\n",
              "        text-align: right;\n",
              "    }\n",
              "</style>\n",
              "<table border=\"1\" class=\"dataframe\">\n",
              "  <thead>\n",
              "    <tr style=\"text-align: right;\">\n",
              "      <th></th>\n",
              "      <th>comment_text</th>\n",
              "      <th>toxic</th>\n",
              "    </tr>\n",
              "  </thead>\n",
              "  <tbody>\n",
              "    <tr>\n",
              "      <th>0</th>\n",
              "      <td>worry sandstein strong opinion well edit wikip...</td>\n",
              "      <td>0</td>\n",
              "    </tr>\n",
              "    <tr>\n",
              "      <th>1</th>\n",
              "      <td>try dispute fact</td>\n",
              "      <td>0</td>\n",
              "    </tr>\n",
              "    <tr>\n",
              "      <th>2</th>\n",
              "      <td>shot analysis source align technology shot ana...</td>\n",
              "      <td>0</td>\n",
              "    </tr>\n",
              "    <tr>\n",
              "      <th>3</th>\n",
              "      <td>cover want current older cover paper edit scan...</td>\n",
              "      <td>0</td>\n",
              "    </tr>\n",
              "    <tr>\n",
              "      <th>4</th>\n",
              "      <td>probably worth set temple use period vasili ke...</td>\n",
              "      <td>0</td>\n",
              "    </tr>\n",
              "    <tr>\n",
              "      <th>...</th>\n",
              "      <td>...</td>\n",
              "      <td>...</td>\n",
              "    </tr>\n",
              "    <tr>\n",
              "      <th>8702</th>\n",
              "      <td>would talk like reason appreci smith fait gayb...</td>\n",
              "      <td>1</td>\n",
              "    </tr>\n",
              "    <tr>\n",
              "      <th>8703</th>\n",
              "      <td>due suck well well see back wander jacket poli...</td>\n",
              "      <td>1</td>\n",
              "    </tr>\n",
              "    <tr>\n",
              "      <th>8704</th>\n",
              "      <td>total screw article temple ridicule butt</td>\n",
              "      <td>1</td>\n",
              "    </tr>\n",
              "    <tr>\n",
              "      <th>8705</th>\n",
              "      <td>know forget go add text hope get life punish d...</td>\n",
              "      <td>1</td>\n",
              "    </tr>\n",
              "    <tr>\n",
              "      <th>8706</th>\n",
              "      <td>slimvirgin mind mack swalwel albert like wear ...</td>\n",
              "      <td>1</td>\n",
              "    </tr>\n",
              "  </tbody>\n",
              "</table>\n",
              "<p>7052 rows × 2 columns</p>\n",
              "</div>"
            ],
            "text/plain": [
              "                                           comment_text  toxic\n",
              "0     worry sandstein strong opinion well edit wikip...      0\n",
              "1                                      try dispute fact      0\n",
              "2     shot analysis source align technology shot ana...      0\n",
              "3     cover want current older cover paper edit scan...      0\n",
              "4     probably worth set temple use period vasili ke...      0\n",
              "...                                                 ...    ...\n",
              "8702  would talk like reason appreci smith fait gayb...      1\n",
              "8703  due suck well well see back wander jacket poli...      1\n",
              "8704           total screw article temple ridicule butt      1\n",
              "8705  know forget go add text hope get life punish d...      1\n",
              "8706  slimvirgin mind mack swalwel albert like wear ...      1\n",
              "\n",
              "[7052 rows x 2 columns]"
            ]
          },
          "metadata": {
            "tags": []
          },
          "execution_count": 21
        }
      ]
    },
    {
      "cell_type": "code",
      "metadata": {
        "colab": {
          "base_uri": "https://localhost:8080/",
          "height": 354
        },
        "id": "ig4HggEpLv8g",
        "outputId": "7c1aef5d-47a9-4c56-fd95-21e5eed49df1"
      },
      "source": [
        "from sklearn.utils import resample\n",
        "toxic = prep_data[prep_data.toxic ==1]\n",
        "not_toxic = prep_data[prep_data.toxic == 0]\n",
        "\n",
        "downsampled = resample(not_toxic,\n",
        "                       replace = False, # sample without replacement\n",
        "                       n_samples = len(toxic), # match minority n\n",
        "                       random_state = 42) # reproducible results\n",
        "prep_data = pd.concat([downsampled, toxic], ignore_index=True)\n",
        "sns.countplot(prep_data.toxic)"
      ],
      "execution_count": 22,
      "outputs": [
        {
          "output_type": "stream",
          "text": [
            "/usr/local/lib/python3.6/dist-packages/seaborn/_decorators.py:43: FutureWarning: Pass the following variable as a keyword arg: x. From version 0.12, the only valid positional argument will be `data`, and passing other arguments without an explicit keyword will result in an error or misinterpretation.\n",
            "  FutureWarning\n"
          ],
          "name": "stderr"
        },
        {
          "output_type": "execute_result",
          "data": {
            "text/plain": [
              "<matplotlib.axes._subplots.AxesSubplot at 0x7fa56558d978>"
            ]
          },
          "metadata": {
            "tags": []
          },
          "execution_count": 22
        },
        {
          "output_type": "display_data",
          "data": {
            "image/png": "[encoded data removed]",
            "text/plain": [
              "<Figure size 432x288 with 1 Axes>"
            ]
          },
          "metadata": {
            "tags": [],
            "needs_background": "light"
          }
        }
      ]
    },
    {
      "cell_type": "code",
      "metadata": {
        "colab": {
          "base_uri": "https://localhost:8080/",
          "height": 424
        },
        "id": "1ISTs2juMZWq",
        "outputId": "202876b4-3aed-4ec6-ff47-966593af6eb2"
      },
      "source": [
        "prep_data = prep_data.sample(frac=1, random_state=42).reset_index(drop=True) #shuffles the entire dataset\n",
        "prep_data"
      ],
      "execution_count": 23,
      "outputs": [
        {
          "output_type": "execute_result",
          "data": {
            "text/html": [
              "<div>\n",
              "<style scoped>\n",
              "    .dataframe tbody tr th:only-of-type {\n",
              "        vertical-align: middle;\n",
              "    }\n",
              "\n",
              "    .dataframe tbody tr th {\n",
              "        vertical-align: top;\n",
              "    }\n",
              "\n",
              "    .dataframe thead th {\n",
              "        text-align: right;\n",
              "    }\n",
              "</style>\n",
              "<table border=\"1\" class=\"dataframe\">\n",
              "  <thead>\n",
              "    <tr style=\"text-align: right;\">\n",
              "      <th></th>\n",
              "      <th>comment_text</th>\n",
              "      <th>toxic</th>\n",
              "    </tr>\n",
              "  </thead>\n",
              "  <tbody>\n",
              "    <tr>\n",
              "      <th>0</th>\n",
              "      <td>already two sentence need shorten talk</td>\n",
              "      <td>0</td>\n",
              "    </tr>\n",
              "    <tr>\n",
              "      <th>1</th>\n",
              "      <td>please adopt give rough start wikipedia finish...</td>\n",
              "      <td>0</td>\n",
              "    </tr>\n",
              "    <tr>\n",
              "      <th>2</th>\n",
              "      <td>statement exactly banner somebody please expla...</td>\n",
              "      <td>1</td>\n",
              "    </tr>\n",
              "    <tr>\n",
              "      <th>3</th>\n",
              "      <td>listen bag need get life stop edit wikipedia l...</td>\n",
              "      <td>1</td>\n",
              "    </tr>\n",
              "    <tr>\n",
              "      <th>4</th>\n",
              "      <td>ok admit</td>\n",
              "      <td>0</td>\n",
              "    </tr>\n",
              "    <tr>\n",
              "      <th>...</th>\n",
              "      <td>...</td>\n",
              "      <td>...</td>\n",
              "    </tr>\n",
              "    <tr>\n",
              "      <th>6105</th>\n",
              "      <td>block threat page get warn resin hypocrite sup...</td>\n",
              "      <td>1</td>\n",
              "    </tr>\n",
              "    <tr>\n",
              "      <th>6106</th>\n",
              "      <td>try prove point appear people like rather char...</td>\n",
              "      <td>1</td>\n",
              "    </tr>\n",
              "    <tr>\n",
              "      <th>6107</th>\n",
              "      <td>bongwarrior mother prostitut</td>\n",
              "      <td>1</td>\n",
              "    </tr>\n",
              "    <tr>\n",
              "      <th>6108</th>\n",
              "      <td>dickfac</td>\n",
              "      <td>1</td>\n",
              "    </tr>\n",
              "    <tr>\n",
              "      <th>6109</th>\n",
              "      <td>hi lancelort buhlebuyeza mokuoa born doctor bl...</td>\n",
              "      <td>0</td>\n",
              "    </tr>\n",
              "  </tbody>\n",
              "</table>\n",
              "<p>6110 rows × 2 columns</p>\n",
              "</div>"
            ],
            "text/plain": [
              "                                           comment_text  toxic\n",
              "0                already two sentence need shorten talk      0\n",
              "1     please adopt give rough start wikipedia finish...      0\n",
              "2     statement exactly banner somebody please expla...      1\n",
              "3     listen bag need get life stop edit wikipedia l...      1\n",
              "4                                              ok admit      0\n",
              "...                                                 ...    ...\n",
              "6105  block threat page get warn resin hypocrite sup...      1\n",
              "6106  try prove point appear people like rather char...      1\n",
              "6107                       bongwarrior mother prostitut      1\n",
              "6108                                            dickfac      1\n",
              "6109  hi lancelort buhlebuyeza mokuoa born doctor bl...      0\n",
              "\n",
              "[6110 rows x 2 columns]"
            ]
          },
          "metadata": {
            "tags": []
          },
          "execution_count": 23
        }
      ]
    },
    {
      "cell_type": "code",
      "metadata": {
        "colab": {
          "base_uri": "https://localhost:8080/"
        },
        "id": "Vijl3IEmPDBe",
        "outputId": "0ec247a2-1ee9-4ebe-cbfc-a9585bfd9421"
      },
      "source": [
        "prep_data['toxic'].value_counts()"
      ],
      "execution_count": 24,
      "outputs": [
        {
          "output_type": "execute_result",
          "data": {
            "text/plain": [
              "1    3055\n",
              "0    3055\n",
              "Name: toxic, dtype: int64"
            ]
          },
          "metadata": {
            "tags": []
          },
          "execution_count": 24
        }
      ]
    },
    {
      "cell_type": "code",
      "metadata": {
        "id": "6K_799apNKD1"
      },
      "source": [
        "#prep_data.to_csv(path_or_buf='preprocessed_comments.csv')"
      ],
      "execution_count": 25,
      "outputs": []
    },
    {
      "cell_type": "code",
      "metadata": {
        "id": "6Ezso0OAOvI9"
      },
      "source": [
        "X = prep_data[\"comment_text\"].fillna(\"NODATA\").values\n",
        "y = prep_data['toxic'].values"
      ],
      "execution_count": 26,
      "outputs": []
    },
    {
      "cell_type": "code",
      "metadata": {
        "id": "GbWmJy5QRdJr"
      },
      "source": [
        "X_train, X_test, y_train, y_test = train_test_split(X, y, test_size=0.2, random_state=42)"
      ],
      "execution_count": 27,
      "outputs": []
    },
    {
      "cell_type": "code",
      "metadata": {
        "id": "78-ZCNCyZ-g3"
      },
      "source": [
        "class PreProcessor:\n",
        "    \n",
        "    def __init__(self, noise_chars):\n",
        "        self.noise_chars = noise_chars #declare the noisy characters, we do not use @ or # as we need them for regex extraction\n",
        "    \n",
        "    def removeNoise(self, string):\n",
        "        \"\"\"\n",
        "        This function removes noise from the text by lowering cases, removing character entities\n",
        "        references, removing links, and removing given noisy characters.\n",
        "        \"\"\"\n",
        "        string = string.lower() #converts the text to lower case \n",
        "        string = re.sub('&[a-zA-Z]+;', '', string) #remove character entities reference\n",
        "        string = re.sub('http\\S+', '', string)#remove links\n",
        "        string = re.sub('www\\S+', '', string)\n",
        "        string = re.sub(\"\\\\xa0·\", \" \", string)\n",
        "        string = re.sub(\"(UTC)\", \" \", string)\n",
        "        string = re.sub('^b\\s+', '', string)\n",
        "        string = re.sub('@[A-Za-z0-9]+', 'user', string)\n",
        "        string = re.sub(\"â€\\x9d&lt;\", \"\", string)\n",
        "        string = re.sub(\"â€œ:\", \"\", string)\n",
        "        string = re.sub('pleas', 'please', string)\n",
        "        string = re.sub('dont', 'do not', string)\n",
        "        for char in self.noise_chars:\n",
        "            string = string.replace(char, '') #removes any noisy character from the list noise_chars\n",
        "        cleaned = string #the cleaned string is passed and returned\n",
        "        return cleaned\n",
        "    \n",
        "    def removeStopwords(self, string):\n",
        "        \"\"\"\n",
        "        This function removes stopwords from the text. It uses a corpus of stopwords from NLTK and they \n",
        "        can be extended.\n",
        "        \"\"\"\n",
        "        words = []\n",
        "        for i in string.split(\" \"):#split the text into spaces so it is divided into words\n",
        "            words.append(i) #each word is appended in the list of words\n",
        "        stop_words = stopwords.words('english') #the stopwords corpus provided by NLTK is used for remove them\n",
        "        stop_words.extend(['that','thats','oh', 'aww', 'mr', 'r', 'what', 'etc', 'hey', 'within', 'foi', 'yeah', 'www', 'wa', 'em', 'am', 'i', 'me', 'dialmformurderjpg' ]) #we can extend the list of stopwords in this line\n",
        "        cleaned = [w for w in words if w not in stop_words] #each word in the list of words is checked for stopwords in the corpus\n",
        "        cleaned_stopwords = \" \".join(cleaned)\n",
        "        return cleaned_stopwords\n",
        "    \n",
        "    def textNormalization(self, string):\n",
        "        \"\"\"\n",
        "        This function normalizes text by reducing length of letters in words and correcting spelling of words.\n",
        "        \"\"\"\n",
        "        normalized = []\n",
        "        tokenizer = nltk.tokenize.TweetTokenizer() #we use the TweetTokenizer to reduce length of letters in the words\n",
        "        len_reduced = tokenizer.tokenize(string) #the function is applied to the text returning the length reduced\n",
        "        for word in len_reduced:\n",
        "            check_spell = TextBlob(word) #we use TextBlob spelling checking as the minimum lenght applied by TweetTokenizer is three letters and there can be some mispelled words\n",
        "            normalized.append(str(check_spell.correct())) #it is returned the correct spell of the word and appended to normalized list of words\n",
        "        normalized = \" \".join(normalized)\n",
        "        return normalized\n",
        "    \n",
        "    def stemWords(self, string):\n",
        "        \"\"\"\n",
        "        This function performs stemming of words by chopping off inlfections of words using Port Stemmer algorithm.\n",
        "        Also it corrects mispelling of words.\n",
        "        \"\"\"\n",
        "        words = []\n",
        "        stemmed = []\n",
        "        for i in string.split(\" \"):\n",
        "            words.append(i)\n",
        "        stemmer = PorterStemmer() #it is used PorterStemmer to reducing inflection of words to their original word form\n",
        "        stemmed_words = [stemmer.stem(w) for w in words] #it is applied to each word\n",
        "        for word in stemmed_words:\n",
        "            check_spell = TextBlob(word) #again, we use spelling checking as some words might result mispelled or not complete\n",
        "            stemmed.append(str(check_spell.correct()))\n",
        "        stemmed = \" \".join(stemmed)\n",
        "        return stemmed\n",
        "    \n",
        "    def lemmatizeWords(self, string):\n",
        "        \"\"\"\n",
        "        This function performs word lemmatization by transforming inflections of words in their root form using\n",
        "        WordNetLemmatization from NLTK. Also it checks mispelling of words.\n",
        "        \"\"\"\n",
        "        words = []\n",
        "        lemmatized = []\n",
        "        for i in string.split(\" \"):\n",
        "            words.append(i)\n",
        "        lemmatizer = WordNetLemmatizer() #it is used WordNetLemmatizer to transform word inflections to root form. It is similar to stemming but it does not just chop off words.\n",
        "        lemmatized_words = [lemmatizer.lemmatize(w) for w in words] #it is applied to each word\n",
        "        for word in lemmatized_words:\n",
        "            check_spell = TextBlob(word) #again, we use spelling checking as some words might result mispelled or not complete\n",
        "            lemmatized.append(str(check_spell.correct()))\n",
        "        lemmatized = \" \".join(lemmatized)\n",
        "        return lemmatized\n",
        "    \n",
        "    def wordTokenize(self, string):\n",
        "        \"\"\"\n",
        "        This function performs word tokenization using regular expressions.\n",
        "        \"\"\"\n",
        "        regex = \"[a-zA-Z]+\" #this is another form to split the sentences into words by using regular expressions\n",
        "        tokenized = re.findall(regex, string) #it finds all the matching cases of the regex in the string text and it return a list of words\n",
        "        return tokenized\n",
        "\n",
        "    \n",
        "    def process(self, string):\n",
        "        \"\"\"\n",
        "        This function summarizes and apply all the preprocessing tasks.\n",
        "        \"\"\"\n",
        "        cleaned = self.removeNoise(string)\n",
        "        cleaned_stopwords = self.removeStopwords(cleaned)\n",
        "        normalized = self.textNormalization(cleaned_stopwords)\n",
        "        stemmed = self.stemWords(normalized)\n",
        "        #lemmatized = self.lemmatizeWords(normalized)\n",
        "        tokenized = \" \".join(self.wordTokenize(stemmed))\n",
        "        cleaned = self.removeNoise(tokenized)\n",
        "        preprocessed = self.removeStopwords(cleaned)\n",
        "        return preprocessed"
      ],
      "execution_count": 28,
      "outputs": []
    },
    {
      "cell_type": "code",
      "metadata": {
        "id": "Ci48FYSXdP07"
      },
      "source": [
        "class Classifier:\n",
        "\n",
        "  def __init__(self, pre_processor = None, max_features=20000, maxlen=100):\n",
        "    self.preProcessor = pre_processor if pre_processor else PreProcessor(\"#@,.?!¬-\\''=()\") #this calls the PreProcessor class\n",
        "    self.max_features = max_features\n",
        "    self.maxlen = maxlen\n",
        "\n",
        "  def prepare_data(self, X):\n",
        "    \"\"\"\n",
        "    This function prepares the data by performing preprocessing and vectorization.\n",
        "    \"\"\"\n",
        "    try: #try if the data is more than 1 record\n",
        "      preprocessed = []\n",
        "      for comment in X:\n",
        "          preprocessed.append(self.preProcessor.process(comment))\n",
        "      pickle.dump(preprocessed, open('preprocessed_data.pickle','wb')) #save preprocessed comments in a pickle file\n",
        "      data_prepared = self.vectorize(preprocessed)\n",
        "    except: #do if it is only 1 record\n",
        "      preprocessed = self.preProcessor.process(X)\n",
        "      data_prepared = self.vectorize(preprocessed)\n",
        "\n",
        "    return data_prepared\n",
        "\n",
        "  def get_model(self):\n",
        "    \"\"\"\n",
        "    A Keras model consists of:\n",
        "    An architecture, or configuration, which specifies what layers the model contain, and how they're connected.\n",
        "    A set of weights values (the \"state of the model\").\n",
        "    An optimizer state (defined by compiling the model).\n",
        "    A set of losses and metrics (defined by compiling the model).\n",
        "    \"\"\"\n",
        "    #define the architecture of the neural network\n",
        "    embed_size = 128\n",
        "    inp = Input(shape=(self.maxlen, )) #input layer\n",
        "    x = Embedding(self.max_features, embed_size)(inp) #useful for NLP tasks\n",
        "    x = Bidirectional(LSTM(50, return_sequences=True))(x) #50 neurons; bidirectional used for give information backwards\n",
        "    x = GlobalMaxPool1D()(x) #to get highest activation of the previous layer\n",
        "    x = Dropout(0.1)(x) #Regularization strategy\n",
        "    x = Dense(50, activation=\"relu\")(x) #fully connected  \n",
        "    x = Dropout(0.1)(x)\n",
        "    x = Dense(1, activation=\"sigmoid\")(x) #1 neuron for only one class (toxic or non-toxic), change according to the number of classes \n",
        "    model = Model(inputs=inp, outputs=x)\n",
        "    model.compile(loss='binary_crossentropy',\n",
        "                  optimizer='adam',\n",
        "                  metrics=['accuracy'])\n",
        "\n",
        "    return model\n",
        "\n",
        "  def vectorize(self, X):\n",
        "    \"\"\"\n",
        "    This function vectorizes the preprocessed data.\n",
        "    \"\"\"\n",
        "    list_sentences = X\n",
        "    tokenizer = text.Tokenizer(num_words=self.max_features)\n",
        "    tokenizer.fit_on_texts(list(list_sentences))\n",
        "    list_tokenized = tokenizer.texts_to_sequences(list_sentences) #receive text and return a sequence (indexes of the words)\n",
        "    X_vector = sequence.pad_sequences(list_tokenized, maxlen=self.maxlen) #pads with zeros to fulfill the maxlen if not reached\n",
        "    \n",
        "    return X_vector\n",
        "\n",
        "  def fit(self, X, y, batch_size=32, epochs=2):\n",
        "    \"\"\"\n",
        "    This function performs the training of the model.\n",
        "    It also saves the model in a given location with the best weightss.\n",
        "    \"\"\"\n",
        "    #self.X_vector = self.prepare_data(X)\n",
        "    self.X_vector = X\n",
        "    model = self.get_model()\n",
        "    self.batch_size = batch_size #number of samples of the network in order to estimate the gradient\n",
        "    self.epochs = epochs\n",
        "\n",
        "    #Defining the callbacks\n",
        "    file_path=\"weights_base.best.hdf5\"\n",
        "    checkpoint = ModelCheckpoint(file_path, monitor='val_loss', verbose=1, save_best_only=True, mode='min') #after each epoch, saves the best weights of the best neural network\n",
        "\n",
        "    early = EarlyStopping(monitor=\"val_loss\", mode=\"min\", patience=20) #monitors if validation loss is getting worse, it stops\n",
        "\n",
        "    callbacks_list = [checkpoint, early]\n",
        "    history = model.fit(self.X_vector, y, batch_size=self.batch_size, epochs=self.epochs, validation_split=0.1, callbacks=callbacks_list)\n",
        "\n",
        "    model.load_weights(file_path)\n",
        "    model.save('./drive/MyDrive/classificationModel_compiled')\n",
        "\n",
        "    return history\n",
        "\n",
        "\n",
        "  def predict(self, X):\n",
        "    \"\"\"\n",
        "    This function performs prediction of data by loading a saved model.\n",
        "    \"\"\"\n",
        "    #X_vector = self.prepare_data(X)\n",
        "    X_vector = X\n",
        "    self.model = load_model('./drive/MyDrive/classificationModel_compiled')\n",
        "    return self.model.predict(X_vector)\n",
        "\n",
        "  def summarize(self):\n",
        "    \"\"\"\n",
        "    This model summirizes the model.\n",
        "    \"\"\"\n",
        "    model = self.get_model()\n",
        "    model.summary()\n",
        "\n",
        "  def evaluate(self, X, y):\n",
        "    #X_vector = self.prepare_data(X)\n",
        "    X_vector = X\n",
        "    self.model = load_model('./drive/MyDrive/classificationModel_compiled')\n",
        "    loss, acc = self.model.evaluate(X_vector, y, verbose=2)\n",
        "    print('Restored model, accuracy: {:5.2f}%'.format(100 * acc))\n",
        "\n",
        "  def plot_history(self, history):\n",
        "    \"\"\"\n",
        "    This function plots both accuracy and loss history during epochs of the training process.\n",
        "    \"\"\"\n",
        "    # summarize history for accuracy\n",
        "    self.history = history\n",
        "    plt.plot(self.history.history['accuracy'])\n",
        "    plt.plot(self.history.history['val_accuracy'])\n",
        "    plt.title('model accuracy')\n",
        "    plt.ylabel('accuracy')\n",
        "    plt.xlabel('epoch')\n",
        "    plt.legend(['train', 'test'], loc='upper left')\n",
        "    plt.show()\n",
        "    # summarize history for loss\n",
        "    plt.plot(self.history.history['loss'])\n",
        "    plt.plot(self.history.history['val_loss'])\n",
        "    plt.title('model loss')\n",
        "    plt.ylabel('loss')\n",
        "    plt.xlabel('epoch')\n",
        "    plt.legend(['train', 'test'], loc='upper left')\n",
        "    plt.show()\n",
        "\n",
        "  def plot_model(self):\n",
        "    \"\"\"\n",
        "    This function saves a plot of the model.\n",
        "    \"\"\"\n",
        "    plot_model(self.get_model())"
      ],
      "execution_count": 29,
      "outputs": []
    },
    {
      "cell_type": "markdown",
      "metadata": {
        "id": "SICD0MPbQb5G"
      },
      "source": [
        "### Run the model"
      ]
    },
    {
      "cell_type": "code",
      "metadata": {
        "id": "CknM8xRy1xs3"
      },
      "source": [
        "classifier = Classifier()"
      ],
      "execution_count": 30,
      "outputs": []
    },
    {
      "cell_type": "code",
      "metadata": {
        "id": "uMCiuk98bUKi"
      },
      "source": [
        "X_vectorized = classifier.vectorize(X_train) #only vectorize because it is already preprocessed; if not, prepared_data()"
      ],
      "execution_count": 31,
      "outputs": []
    },
    {
      "cell_type": "code",
      "metadata": {
        "id": "IHcgdauK13an",
        "colab": {
          "base_uri": "https://localhost:8080/"
        },
        "outputId": "67caf1ae-a4f3-4e37-df24-a9a05b000de9"
      },
      "source": [
        "history = classifier.fit(X_vectorized, y_train, epochs=2)"
      ],
      "execution_count": 32,
      "outputs": [
        {
          "output_type": "stream",
          "text": [
            "Epoch 1/2\n",
            "137/138 [============================>.] - ETA: 0s - loss: 0.5232 - accuracy: 0.7370\n",
            "Epoch 00001: val_loss improved from inf to 0.33043, saving model to weights_base.best.hdf5\n",
            "138/138 [==============================] - 6s 44ms/step - loss: 0.5227 - accuracy: 0.7372 - val_loss: 0.3304 - val_accuracy: 0.8589\n",
            "Epoch 2/2\n",
            "137/138 [============================>.] - ETA: 0s - loss: 0.2047 - accuracy: 0.9161\n",
            "Epoch 00002: val_loss improved from 0.33043 to 0.32837, saving model to weights_base.best.hdf5\n",
            "138/138 [==============================] - 5s 39ms/step - loss: 0.2042 - accuracy: 0.9161 - val_loss: 0.3284 - val_accuracy: 0.8814\n",
            "WARNING:tensorflow:From /usr/local/lib/python3.6/dist-packages/tensorflow/python/training/tracking/tracking.py:111: Model.state_updates (from tensorflow.python.keras.engine.training) is deprecated and will be removed in a future version.\n",
            "Instructions for updating:\n",
            "This property should not be used in TensorFlow 2.0, as updates are applied automatically.\n",
            "WARNING:tensorflow:From /usr/local/lib/python3.6/dist-packages/tensorflow/python/training/tracking/tracking.py:111: Layer.updates (from tensorflow.python.keras.engine.base_layer) is deprecated and will be removed in a future version.\n",
            "Instructions for updating:\n",
            "This property should not be used in TensorFlow 2.0, as updates are applied automatically.\n",
            "INFO:tensorflow:Assets written to: ./drive/MyDrive/classificationModel_compiled/assets\n"
          ],
          "name": "stdout"
        }
      ]
    },
    {
      "cell_type": "code",
      "metadata": {
        "id": "PURVjdt9R_pz"
      },
      "source": [
        "X_test_vectorized = classifier.vectorize(X_test)"
      ],
      "execution_count": 33,
      "outputs": []
    },
    {
      "cell_type": "code",
      "metadata": {
        "id": "RhbKeleq1JNe"
      },
      "source": [
        "predicted = classifier.predict(X_test_vectorized)"
      ],
      "execution_count": 34,
      "outputs": []
    },
    {
      "cell_type": "code",
      "metadata": {
        "id": "6BosWlsCJw2W",
        "colab": {
          "base_uri": "https://localhost:8080/"
        },
        "outputId": "fcaa8c4a-387b-4066-cc99-2ca5cee8424d"
      },
      "source": [
        "print(classification_report(y_test, predicted.round(), digits=4, zero_division=0))"
      ],
      "execution_count": 35,
      "outputs": [
        {
          "output_type": "stream",
          "text": [
            "              precision    recall  f1-score   support\n",
            "\n",
            "           0     0.4807    0.4673    0.4739       612\n",
            "           1     0.4801    0.4934    0.4867       610\n",
            "\n",
            "    accuracy                         0.4804      1222\n",
            "   macro avg     0.4804    0.4804    0.4803      1222\n",
            "weighted avg     0.4804    0.4804    0.4803      1222\n",
            "\n"
          ],
          "name": "stdout"
        }
      ]
    },
    {
      "cell_type": "code",
      "metadata": {
        "colab": {
          "base_uri": "https://localhost:8080/"
        },
        "id": "KS5oc9FteUlD",
        "outputId": "e59b66f5-acfd-4e13-fcb8-6eb8abf0b863"
      },
      "source": [
        "classifier.evaluate(X_vectorized, y_train)"
      ],
      "execution_count": 36,
      "outputs": [
        {
          "output_type": "stream",
          "text": [
            "153/153 - 1s - loss: 0.1047 - accuracy: 0.9714\n",
            "Restored model, accuracy: 97.14%\n"
          ],
          "name": "stdout"
        }
      ]
    },
    {
      "cell_type": "code",
      "metadata": {
        "colab": {
          "base_uri": "https://localhost:8080/",
          "height": 573
        },
        "id": "uGOM6DW1fLz9",
        "outputId": "c91231ac-8580-4c10-904f-ab5b477194f9"
      },
      "source": [
        "classifier.plot_history(history)"
      ],
      "execution_count": 37,
      "outputs": [
        {
          "output_type": "display_data",
          "data": {
            "image/png": "[encoded data removed]",
            "text/plain": [
              "<Figure size 432x288 with 1 Axes>"
            ]
          },
          "metadata": {
            "tags": [],
            "needs_background": "light"
          }
        },
        {
          "output_type": "display_data",
          "data": {
            "image/png": "[encoded data removed]",
            "text/plain": [
              "<Figure size 432x288 with 1 Axes>"
            ]
          },
          "metadata": {
            "tags": [],
            "needs_background": "light"
          }
        }
      ]
    },
    {
      "cell_type": "code",
      "metadata": {
        "id": "_ZoRvaGqLhLu",
        "colab": {
          "base_uri": "https://localhost:8080/"
        },
        "outputId": "495b379f-6e34-44ba-c6bc-f324855aa477"
      },
      "source": [
        "classifier.summarize()"
      ],
      "execution_count": 38,
      "outputs": [
        {
          "output_type": "stream",
          "text": [
            "Model: \"functional_3\"\n",
            "_________________________________________________________________\n",
            "Layer (type)                 Output Shape              Param #   \n",
            "=================================================================\n",
            "input_2 (InputLayer)         [(None, 100)]             0         \n",
            "_________________________________________________________________\n",
            "embedding_1 (Embedding)      (None, 100, 128)          2560000   \n",
            "_________________________________________________________________\n",
            "bidirectional_1 (Bidirection (None, 100, 100)          71600     \n",
            "_________________________________________________________________\n",
            "global_max_pooling1d_1 (Glob (None, 100)               0         \n",
            "_________________________________________________________________\n",
            "dropout_2 (Dropout)          (None, 100)               0         \n",
            "_________________________________________________________________\n",
            "dense_2 (Dense)              (None, 50)                5050      \n",
            "_________________________________________________________________\n",
            "dropout_3 (Dropout)          (None, 50)                0         \n",
            "_________________________________________________________________\n",
            "dense_3 (Dense)              (None, 1)                 51        \n",
            "=================================================================\n",
            "Total params: 2,636,701\n",
            "Trainable params: 2,636,701\n",
            "Non-trainable params: 0\n",
            "_________________________________________________________________\n"
          ],
          "name": "stdout"
        }
      ]
    },
    {
      "cell_type": "code",
      "metadata": {
        "id": "MUGeiz_FVNvf"
      },
      "source": [
        "classifier.plot_model()"
      ],
      "execution_count": 39,
      "outputs": []
    },
    {
      "cell_type": "markdown",
      "metadata": {
        "id": "bgG8nQZcV4Ah"
      },
      "source": [
        "### Save Preprocessed dataset [optional]\n",
        "\n",
        "In this part you can preprocess selectable data with a progressbar in order to keep on track of the process. This is useful if preprocessing takes too long. Additionally you can store the preprocessed data to a pickle file.\n",
        "\n"
      ]
    },
    {
      "cell_type": "code",
      "metadata": {
        "id": "gIL_RaMxSYLY"
      },
      "source": [
        "import progressbar\n",
        "import time"
      ],
      "execution_count": 22,
      "outputs": []
    },
    {
      "cell_type": "code",
      "metadata": {
        "id": "j82mRta9S26E"
      },
      "source": [
        "preProcessor = PreProcessor(\"#@,.?!¬-\\''=()\")\n",
        "with progressbar.ProgressBar(max_value=X.shape[0]) as bar:\n",
        "  preprocessed = []\n",
        "  i = 0\n",
        "  for comment in X:\n",
        "      preprocessed.append(preProcessor.process(comment))\n",
        "      i+=1\n",
        "      time.sleep(0.1)\n",
        "      bar.update(i)"
      ],
      "execution_count": null,
      "outputs": []
    },
    {
      "cell_type": "code",
      "metadata": {
        "id": "lnHrUExtVYEo"
      },
      "source": [
        "pickle.dump(preprocessed, open('preprocessed_comments.pickle','wb')) #save preprocessed comments in a pickle file"
      ],
      "execution_count": null,
      "outputs": []
    },
    {
      "cell_type": "code",
      "metadata": {
        "id": "Vu3U5fyZozvP"
      },
      "source": [
        ""
      ],
      "execution_count": null,
      "outputs": []
    }
  ]
}